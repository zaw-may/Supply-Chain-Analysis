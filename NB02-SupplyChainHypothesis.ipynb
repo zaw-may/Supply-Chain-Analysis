{
 "cells": [
  {
   "cell_type": "markdown",
   "id": "e90e70c6",
   "metadata": {},
   "source": [
    "### <font color = \"Cyan\">Hypothesis Statement</font>\n",
    "<b>Is there a statistically significant relationship between \"Shipping Mode\", \"Region\", and the likelihood of \"Late Delivery\"?"
   ]
  },
  {
   "cell_type": "code",
   "execution_count": 1,
   "id": "b9f18b4c",
   "metadata": {},
   "outputs": [],
   "source": [
    "import pandas as pd\n",
    "df = pd.read_csv(\"..\\Sample Datasets\\DataCoSupplyChainDataset1.csv\")"
   ]
  },
  {
   "cell_type": "code",
   "execution_count": 3,
   "id": "29539f64",
   "metadata": {},
   "outputs": [],
   "source": [
    "selected_cols = ['order_date_(DateOrders)', 'shipping_date_(DateOrders)', 'Shipping_Mode', 'Delivery_Status', 'Days_for_shipping_(real)', 'Days_for_shipment_(scheduled)', 'Late_delivery_risk', 'Sales', 'Sales_per_customer', 'Order_Profit_Per_Order', 'Customer_Segment', 'Order_City', 'Order_Country', 'Order_Region', 'Order_State', 'Order_Status', 'Order_Item_Quantity', 'Order_Item_Discount', 'Order_Item_Discount_Rate', 'Product_Category_Id' , 'Product_Name', 'Product_Price']\n",
    "refined_data = df[selected_cols]"
   ]
  },
  {
   "cell_type": "code",
   "execution_count": 8,
   "id": "9d3d4505",
   "metadata": {},
   "outputs": [],
   "source": [
    "shipping_mode_summary = refined_data.groupby('Shipping_Mode').agg(\n",
    "    total_txn = ('Late_delivery_risk', 'count'),\n",
    "    total_late = ('Late_delivery_risk', 'sum')\n",
    ")"
   ]
  },
  {
   "cell_type": "code",
   "execution_count": 22,
   "id": "540fb6a2",
   "metadata": {},
   "outputs": [
    {
     "data": {
      "text/html": [
       "<div>\n",
       "<style scoped>\n",
       "    .dataframe tbody tr th:only-of-type {\n",
       "        vertical-align: middle;\n",
       "    }\n",
       "\n",
       "    .dataframe tbody tr th {\n",
       "        vertical-align: top;\n",
       "    }\n",
       "\n",
       "    .dataframe thead th {\n",
       "        text-align: right;\n",
       "    }\n",
       "</style>\n",
       "<table border=\"1\" class=\"dataframe\">\n",
       "  <thead>\n",
       "    <tr style=\"text-align: right;\">\n",
       "      <th></th>\n",
       "      <th>total_txn</th>\n",
       "      <th>total_late</th>\n",
       "      <th>Late_percentage</th>\n",
       "    </tr>\n",
       "    <tr>\n",
       "      <th>Shipping_Mode</th>\n",
       "      <th></th>\n",
       "      <th></th>\n",
       "      <th></th>\n",
       "    </tr>\n",
       "  </thead>\n",
       "  <tbody>\n",
       "    <tr>\n",
       "      <th>First Class</th>\n",
       "      <td>27814</td>\n",
       "      <td>26513</td>\n",
       "      <td>95.322499</td>\n",
       "    </tr>\n",
       "    <tr>\n",
       "      <th>Second Class</th>\n",
       "      <td>35216</td>\n",
       "      <td>26987</td>\n",
       "      <td>76.632781</td>\n",
       "    </tr>\n",
       "    <tr>\n",
       "      <th>Same Day</th>\n",
       "      <td>9737</td>\n",
       "      <td>4454</td>\n",
       "      <td>45.743042</td>\n",
       "    </tr>\n",
       "    <tr>\n",
       "      <th>Standard Class</th>\n",
       "      <td>107752</td>\n",
       "      <td>41023</td>\n",
       "      <td>38.071683</td>\n",
       "    </tr>\n",
       "  </tbody>\n",
       "</table>\n",
       "</div>"
      ],
      "text/plain": [
       "                total_txn  total_late  Late_percentage\n",
       "Shipping_Mode                                         \n",
       "First Class         27814       26513        95.322499\n",
       "Second Class        35216       26987        76.632781\n",
       "Same Day             9737        4454        45.743042\n",
       "Standard Class     107752       41023        38.071683"
      ]
     },
     "execution_count": 22,
     "metadata": {},
     "output_type": "execute_result"
    }
   ],
   "source": [
    "shipping_mode_summary['Late_percentage'] = (shipping_mode_summary['total_late'] / shipping_mode_summary['total_txn']) * 100\n",
    "shipping_mode_summary.sort_values(by='Late_percentage', ascending = False)"
   ]
  },
  {
   "cell_type": "markdown",
   "id": "8f8747c9",
   "metadata": {},
   "source": [
    "<b>An analysis of the Shipping Performance</b>\n",
    "* <font color = 'green'>First Class</font> shipments have the highest late delivery rate, with 95.32% of deliveries arriving late.\n",
    "* <font color = 'green'>Second Class</font> follows with a significantly high late rate of 76.63%.\n",
    "* <font color = 'green'>Same Day Shipping</font> shows a considerable 45.74% late delivery rate.\n",
    "* <font color = 'green'>Standard Class</font> performs comparatively better, with 38.07% of its deliveries arriving late."
   ]
  },
  {
   "cell_type": "code",
   "execution_count": null,
   "id": "fe65999d",
   "metadata": {},
   "outputs": [],
   "source": []
  }
 ],
 "metadata": {
  "kernelspec": {
   "display_name": "Python 3",
   "language": "python",
   "name": "python3"
  },
  "language_info": {
   "codemirror_mode": {
    "name": "ipython",
    "version": 3
   },
   "file_extension": ".py",
   "mimetype": "text/x-python",
   "name": "python",
   "nbconvert_exporter": "python",
   "pygments_lexer": "ipython3",
   "version": "3.11.0"
  }
 },
 "nbformat": 4,
 "nbformat_minor": 5
}
